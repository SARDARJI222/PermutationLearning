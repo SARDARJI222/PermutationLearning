{
 "cells": [
  {
   "cell_type": "code",
   "execution_count": 2,
   "id": "dfb53fc6",
   "metadata": {},
   "outputs": [],
   "source": [
    "import pandas as pd\n",
    "\n",
    "# Read the first CSV file\n",
    "df1 = pd.read_csv('C:\\\\Users\\\\asus\\\\Downloads\\\\face_final_submssion7.csv')\n",
    "\n",
    "# Read the second CSV file\n",
    "df2 = pd.read_csv('C:\\\\Users\\\\asus\\\\Downloads\\\\landmark_final_submssion5.csv')\n",
    "\n",
    "# Merge the two dataframes into a new dataframe\n",
    "merged_df = pd.concat([df1, df2])\n",
    "\n",
    "# Write the merged dataframe to a new CSV file\n",
    "merged_df.to_csv('merged_file5.csv', index=False)\n"
   ]
  },
  {
   "cell_type": "code",
   "execution_count": 3,
   "id": "3cf60050",
   "metadata": {},
   "outputs": [],
   "source": [
    "import pandas as pd\n",
    "\n",
    "# read the CSV file into a pandas dataframe\n",
    "df = pd.read_csv('merged_file5.csv')\n",
    "\n",
    "# drop the column with name '3'\n",
    "# df.drop(['00','01','02','03','04','05','10','11','12','13','14','15','20','21','22','23','24','25','30','31','32','33','34','35','40','41','42','43','44','45','50','51','52','53','54','55'], axis=1, inplace=True)\n",
    "\n",
    "# write the updated dataframe to a new CSV file\n",
    "df.to_csv('final7.csv', index=False)\n"
   ]
  },
  {
   "cell_type": "code",
   "execution_count": null,
   "id": "c5adba96",
   "metadata": {},
   "outputs": [],
   "source": []
  }
 ],
 "metadata": {
  "kernelspec": {
   "display_name": "Python 3 (ipykernel)",
   "language": "python",
   "name": "python3"
  },
  "language_info": {
   "codemirror_mode": {
    "name": "ipython",
    "version": 3
   },
   "file_extension": ".py",
   "mimetype": "text/x-python",
   "name": "python",
   "nbconvert_exporter": "python",
   "pygments_lexer": "ipython3",
   "version": "3.9.7"
  }
 },
 "nbformat": 4,
 "nbformat_minor": 5
}
